{
 "cells": [
  {
   "cell_type": "code",
   "execution_count": 3,
   "metadata": {},
   "outputs": [],
   "source": [
    "import os\n",
    "import sys\n",
    "py_files_dir = os.path.abspath(\"../../../vampires_on_sky_calibration/py_files/programs/py_files/\")\n",
    "sys.path.insert(0, py_files_dir)\n",
    "\n",
    "import em_gain\n",
    "import numpy as np\n",
    "import pandas as pd\n",
    "import helper_functions as funcs"
   ]
  },
  {
   "cell_type": "markdown",
   "metadata": {},
   "source": [
    "# Examing 04/28/2022 Data"
   ]
  },
  {
   "cell_type": "code",
   "execution_count": 4,
   "metadata": {},
   "outputs": [
    {
     "name": "stdout",
     "output_type": "stream",
     "text": [
      "Number of Data Points: 64\n",
      "Median Normalized Flux for 625-50: -0.37148584094361287\n",
      "Median EM Gain Ratio for 625-50: 2.182112369394222\n",
      "\n",
      "Number of Data Points: 64\n",
      "Median Normalized Flux for 675-50: -0.32687068726950047\n",
      "Median EM Gain Ratio for 675-50: 1.972271901820175\n",
      "\n",
      "Number of Data Points: 64\n",
      "Median Normalized Flux for 725-50: -0.3032787251318735\n",
      "Median EM Gain Ratio for 725-50: 1.870629599294518\n",
      "\n",
      "Number of Data Points: 72\n",
      "Median Normalized Flux for 750-50: -0.24548753479580876\n",
      "Median EM Gain Ratio for 750-50: 1.650744237286565\n",
      "\n",
      "Number of Data Points: 64\n",
      "Median Normalized Flux for 775-50: -0.2948902912160366\n",
      "Median EM Gain Ratio for 775-50: 1.8369183956949486\n",
      "\n"
     ]
    }
   ],
   "source": [
    "# Define wavelengths\n",
    "wavelengths = np.array([\"625-50\", \"675-50\", \"725-50\", \"750-50\", \"775-50\"])\n",
    "\n",
    "# Read in CSV file\n",
    "df = pd.read_csv(\"../../data/20220428/20220429_New_Masterdarks_Header_Parameters.csv\")\n",
    "\n",
    "for i, wavelength in enumerate(wavelengths):\n",
    "    # Filter the DataFrame for the specific wavelength\n",
    "    df_wavelength = df[(df[\"U_FILTER\"] == wavelength)]\n",
    "    \n",
    "    # Further filter for each camera from the already filtered DataFrame\n",
    "    df_cam1 = df_wavelength[df_wavelength[\"U_CAMERA\"] == 1]\n",
    "    df_cam2 = df_wavelength[df_wavelength[\"U_CAMERA\"] == 2]\n",
    "\n",
    "    # Extracting fluxes for each camera & FLC state\n",
    "    FL1 = df_cam1[\"DARK_SUBTRACTED_TOTAL_MEDIAN_FLUX_FLC_1\"].values\n",
    "    FL2 = df_cam1[\"DARK_SUBTRACTED_TOTAL_MEDIAN_FLUX_FLC_2\"].values\n",
    "    FR1 = df_cam2[\"DARK_SUBTRACTED_TOTAL_MEDIAN_FLUX_FLC_1\"].values\n",
    "    FR2 = df_cam2[\"DARK_SUBTRACTED_TOTAL_MEDIAN_FLUX_FLC_2\"].values\n",
    "\n",
    "    # Adding together both FLC States\n",
    "    FL = FL1 + FL2\n",
    "    FR = FR1 + FR2\n",
    "\n",
    "    # Assuming em_gain.calculate_em_gain_ratio returns normalized_fluxes and em_gain_ratios\n",
    "    normalized_fluxes, em_gain_ratios = em_gain.calculate_em_gain_ratio(FL, FR)\n",
    "\n",
    "    print(\"Number of Data Points: \" + str(len(normalized_fluxes)))\n",
    "    print(f\"Median Normalized Flux for {wavelength}: {np.median(normalized_fluxes)}\")\n",
    "    print(f\"Median EM Gain Ratio for {wavelength}: {np.median(em_gain_ratios)}\")\n",
    "    print()\n"
   ]
  },
  {
   "cell_type": "markdown",
   "metadata": {},
   "source": [
    "# Examine Unpolarized Standards"
   ]
  },
  {
   "cell_type": "code",
   "execution_count": 5,
   "metadata": {},
   "outputs": [
    {
     "ename": "AttributeError",
     "evalue": "module 'helper_functions' has no attribute 'load_all_files_from_directory'",
     "output_type": "error",
     "traceback": [
      "\u001b[0;31m---------------------------------------------------------------------------\u001b[0m",
      "\u001b[0;31mAttributeError\u001b[0m                            Traceback (most recent call last)",
      "\u001b[0;32m/tmp/ipykernel_3749766/3098723043.py\u001b[0m in \u001b[0;36m<module>\u001b[0;34m\u001b[0m\n\u001b[1;32m      1\u001b[0m \u001b[0mcsv_directory\u001b[0m \u001b[0;34m=\u001b[0m \u001b[0;34m\"../../../data/unpolarized/csv\"\u001b[0m\u001b[0;34m\u001b[0m\u001b[0;34m\u001b[0m\u001b[0m\n\u001b[0;32m----> 2\u001b[0;31m \u001b[0mcsv_files\u001b[0m \u001b[0;34m=\u001b[0m \u001b[0mfuncs\u001b[0m\u001b[0;34m.\u001b[0m\u001b[0mload_all_files_from_directory\u001b[0m\u001b[0;34m(\u001b[0m\u001b[0mcsv_directory\u001b[0m\u001b[0;34m,\u001b[0m \u001b[0;34m\".csv\"\u001b[0m\u001b[0;34m)\u001b[0m\u001b[0;34m\u001b[0m\u001b[0;34m\u001b[0m\u001b[0m\n\u001b[0m",
      "\u001b[0;31mAttributeError\u001b[0m: module 'helper_functions' has no attribute 'load_all_files_from_directory'"
     ]
    }
   ],
   "source": [
    "csv_directory = \"../../../data/unpolarized/csv\"\n",
    "csv_files = funcs.load_all_files_from_directory(csv_directory, \".csv\")"
   ]
  },
  {
   "cell_type": "markdown",
   "metadata": {},
   "source": [
    "# Examine Polarized Standards"
   ]
  },
  {
   "cell_type": "code",
   "execution_count": null,
   "metadata": {},
   "outputs": [],
   "source": []
  },
  {
   "cell_type": "markdown",
   "metadata": {},
   "source": []
  }
 ],
 "metadata": {
  "kernelspec": {
   "display_name": "base",
   "language": "python",
   "name": "python3"
  },
  "language_info": {
   "codemirror_mode": {
    "name": "ipython",
    "version": 3
   },
   "file_extension": ".py",
   "mimetype": "text/x-python",
   "name": "python",
   "nbconvert_exporter": "python",
   "pygments_lexer": "ipython3",
   "version": "3.9.7"
  }
 },
 "nbformat": 4,
 "nbformat_minor": 2
}
