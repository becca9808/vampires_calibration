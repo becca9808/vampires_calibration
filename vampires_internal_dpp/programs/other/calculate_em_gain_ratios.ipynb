{
 "cells": [
  {
   "cell_type": "code",
   "execution_count": 1,
   "metadata": {},
   "outputs": [],
   "source": [
    "import os\n",
    "import sys\n",
    "py_files_dir = os.path.abspath(\"../../../vampires_on_sky_calibration/programs/py_files/\")\n",
    "sys.path.insert(0, py_files_dir)\n",
    "\n",
    "import em_gain\n",
    "import numpy as np\n",
    "import pandas as pd\n",
    "import helper_functions as funcs"
   ]
  },
  {
   "cell_type": "markdown",
   "metadata": {},
   "source": [
    "# Examing 04/28/2022 Data"
   ]
  },
  {
   "cell_type": "code",
   "execution_count": 2,
   "metadata": {},
   "outputs": [
    {
     "name": "stdout",
     "output_type": "stream",
     "text": [
      "Number of Data Points: 64\n",
      "Median Normalized Flux for 625-50: -0.37148584094361287\n",
      "Median EM Gain Ratio for 625-50: 2.182112369394222\n",
      "\n",
      "Number of Data Points: 64\n",
      "Median Normalized Flux for 675-50: -0.32687068726950047\n",
      "Median EM Gain Ratio for 675-50: 1.972271901820175\n",
      "\n",
      "Number of Data Points: 64\n",
      "Median Normalized Flux for 725-50: -0.3032787251318735\n",
      "Median EM Gain Ratio for 725-50: 1.870629599294518\n",
      "\n",
      "Number of Data Points: 72\n",
      "Median Normalized Flux for 750-50: -0.24548753479580876\n",
      "Median EM Gain Ratio for 750-50: 1.650744237286565\n",
      "\n",
      "Number of Data Points: 64\n",
      "Median Normalized Flux for 775-50: -0.2948902912160366\n",
      "Median EM Gain Ratio for 775-50: 1.8369183956949486\n",
      "\n"
     ]
    }
   ],
   "source": [
    "# Define wavelengths\n",
    "wavelengths = np.array([\"625-50\", \"675-50\", \"725-50\", \"750-50\", \"775-50\"])\n",
    "\n",
    "# Read in CSV file\n",
    "df = pd.read_csv(\"../../data/20220428/20220429_New_Masterdarks_Header_Parameters.csv\")\n",
    "\n",
    "for i, wavelength in enumerate(wavelengths):\n",
    "    # Filter the DataFrame for the specific wavelength\n",
    "    df_wavelength = df[(df[\"U_FILTER\"] == wavelength)]\n",
    "    \n",
    "    # Further filter for each camera from the already filtered DataFrame\n",
    "    df_cam1 = df_wavelength[df_wavelength[\"U_CAMERA\"] == 1]\n",
    "    df_cam2 = df_wavelength[df_wavelength[\"U_CAMERA\"] == 2]\n",
    "\n",
    "    # Extracting fluxes for each camera & FLC state\n",
    "    FL1 = df_cam1[\"DARK_SUBTRACTED_TOTAL_MEDIAN_FLUX_FLC_1\"].values\n",
    "    FL2 = df_cam1[\"DARK_SUBTRACTED_TOTAL_MEDIAN_FLUX_FLC_2\"].values\n",
    "    FR1 = df_cam2[\"DARK_SUBTRACTED_TOTAL_MEDIAN_FLUX_FLC_1\"].values\n",
    "    FR2 = df_cam2[\"DARK_SUBTRACTED_TOTAL_MEDIAN_FLUX_FLC_2\"].values\n",
    "\n",
    "    # Adding together both FLC States\n",
    "    FL = FL1 + FL2\n",
    "    FR = FR1 + FR2\n",
    "\n",
    "    # Assuming em_gain.calculate_em_gain_ratio returns normalized_fluxes and em_gain_ratios\n",
    "    normalized_fluxes, em_gain_ratios = em_gain.calculate_em_gain_ratio(FL, FR)\n",
    "\n",
    "    print(\"Number of Data Points: \" + str(len(normalized_fluxes)))\n",
    "    print(f\"Median Normalized Flux for {wavelength}: {np.median(normalized_fluxes)}\")\n",
    "    print(f\"Median EM Gain Ratio for {wavelength}: {np.median(em_gain_ratios)}\")\n",
    "    print()\n"
   ]
  },
  {
   "cell_type": "markdown",
   "metadata": {},
   "source": [
    "# Examine 01/28/2022 Standards"
   ]
  },
  {
   "cell_type": "code",
   "execution_count": 3,
   "metadata": {},
   "outputs": [
    {
     "name": "stdout",
     "output_type": "stream",
     "text": [
      "Examining Unpolarized Standards\n",
      "Number of Data Points: 20\n",
      "Median Normalized Flux for HD173667: -0.044116104950356574\n",
      "Median EM Gain Ratio for HD173667: 1.0923043177882397\n",
      "Number of Data Points: 24\n",
      "Median Normalized Flux for HD36819: -0.06962340595335258\n",
      "Median EM Gain Ratio for HD36819: 1.149667207311924\n",
      "Number of Data Points: 24\n",
      "Median Normalized Flux for HD128750: -0.06068809047232204\n",
      "Median EM Gain Ratio for HD128750: 1.1292181862008897\n",
      "Number of Data Points: 211\n",
      "Median Normalized Flux for ETACRV: -0.06427398306495762\n",
      "Median EM Gain Ratio for ETACRV: 1.1373777834573546\n",
      "Number of Data Points: 28\n",
      "Median Normalized Flux for HD108767: -0.0477133023372153\n",
      "Median EM Gain Ratio for HD108767: 1.1002078701867435\n",
      "Number of Data Points: 40\n",
      "Median Normalized Flux for HD173667: -0.03870248561647912\n",
      "Median EM Gain Ratio for HD173667: 1.0805213711697501\n",
      "\n",
      "Median Normalized Fluxes (Unpolarized): -0.06291537537449327\n",
      "Median EM Gain Ratio (Unnolarized): 1.1342789620513443\n",
      "\n",
      "Examining Polarized Standards\n",
      "Number of Data Points: 16\n",
      "Median Normalized Flux for HD29333: -0.10558261463766061\n",
      "Median EM Gain Ratio for HD29333: 1.2360927313182533\n",
      "Number of Data Points: 10\n",
      "Median Normalized Flux for HDE279658: -0.11962069570674311\n",
      "Median EM Gain Ratio for HDE279658: 1.2717493731253993\n",
      "Number of Data Points: 16\n",
      "Median Normalized Flux for HD29835: -0.10229662731089466\n",
      "Median EM Gain Ratio for HD29835: 1.2279074206936271\n",
      "\n",
      "Median Normalized Fluxes (Polarized): -0.10802949739840043\n",
      "Median EM Gain Ratio (Polarized): 1.242226615588593\n"
     ]
    }
   ],
   "source": [
    "# Performing for just unpolarized standards first\n",
    "all_normalized_fluxes = []\n",
    "all_em_gain_ratios = []\n",
    "\n",
    "print(\"Examining Unpolarized Standards\")\n",
    "unpol_csv_directory = \"../../../vampires_on_sky_calibration/data/unpolarized/csv\"\n",
    "unpol_csv_files = funcs.load_all_files_from_directory(unpol_csv_directory, \".csv\")\n",
    "\n",
    "for csv_file in unpol_csv_files:\n",
    "    normalized_fluxes, em_gain_ratios = em_gain.process_vampires_dpp_csv_file(csv_file)\n",
    "    all_normalized_fluxes = np.concatenate((all_normalized_fluxes, normalized_fluxes))\n",
    "    all_em_gain_ratios = np.concatenate((all_em_gain_ratios, em_gain_ratios))\n",
    "\n",
    "print()\n",
    "print(\"Median Normalized Fluxes (Unpolarized): \" + str(np.median(all_normalized_fluxes)))\n",
    "print(\"Median EM Gain Ratio (Unnolarized): \" + str(np.median(all_em_gain_ratios)))\n",
    "print()\n",
    "\n",
    "# Resetting to look at polarized standards\n",
    "all_normalized_fluxes = []\n",
    "all_em_gain_ratios = []\n",
    "\n",
    "print(\"Examining Polarized Standards\")\n",
    "pol_csv_directory = \"../../../vampires_on_sky_calibration/data/polarized/csv\"\n",
    "pol_csv_files = funcs.load_all_files_from_directory(pol_csv_directory, \".csv\")\n",
    "\n",
    "for csv_file in pol_csv_files:\n",
    "    normalized_fluxes, em_gain_ratios = em_gain.process_vampires_dpp_csv_file(csv_file)\n",
    "    all_normalized_fluxes = np.concatenate((all_normalized_fluxes, normalized_fluxes))\n",
    "    all_em_gain_ratios = np.concatenate((all_em_gain_ratios, em_gain_ratios))\n",
    "\n",
    "# Convert lists to numpy arrays if they are not already\n",
    "all_normalized_fluxes = np.array(all_normalized_fluxes)\n",
    "all_em_gain_ratios = np.array(all_em_gain_ratios)\n",
    "\n",
    "# Filter out NaN values\n",
    "valid_indices = ~np.isnan(all_normalized_fluxes) & ~np.isnan(all_em_gain_ratios)\n",
    "all_normalized_fluxes = all_normalized_fluxes[valid_indices]\n",
    "all_em_gain_ratios = all_em_gain_ratios[valid_indices]\n",
    "\n",
    "print()\n",
    "print(\"Median Normalized Fluxes (Polarized): \" + str(np.median(all_normalized_fluxes)))\n",
    "print(\"Median EM Gain Ratio (Polarized): \" + str(np.median(all_em_gain_ratios)))\n"
   ]
  },
  {
   "cell_type": "markdown",
   "metadata": {},
   "source": []
  }
 ],
 "metadata": {
  "kernelspec": {
   "display_name": "base",
   "language": "python",
   "name": "python3"
  },
  "language_info": {
   "codemirror_mode": {
    "name": "ipython",
    "version": 3
   },
   "file_extension": ".py",
   "mimetype": "text/x-python",
   "name": "python",
   "nbconvert_exporter": "python",
   "pygments_lexer": "ipython3",
   "version": "3.9.7"
  }
 },
 "nbformat": 4,
 "nbformat_minor": 2
}
