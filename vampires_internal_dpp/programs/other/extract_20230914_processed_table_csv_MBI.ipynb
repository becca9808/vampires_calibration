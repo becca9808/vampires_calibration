{
 "cells": [
  {
   "cell_type": "markdown",
   "metadata": {},
   "source": [
    "# Making Numpy Cubes of Double Diff "
   ]
  },
  {
   "cell_type": "code",
   "execution_count": 1,
   "metadata": {},
   "outputs": [
    {
     "name": "stdout",
     "output_type": "stream",
     "text": [
      "0       21922.0\n",
      "1       -1080.0\n",
      "2        -194.0\n",
      "3        7384.0\n",
      "4        9954.0\n",
      "         ...   \n",
      "1115    -1281.0\n",
      "1116    -3376.0\n",
      "1117    -5102.0\n",
      "1118    -3481.0\n",
      "1119        NaN\n",
      "Name: diff, Length: 1120, dtype: float64\n"
     ]
    },
    {
     "data": {
      "text/plain": [
       "((16, 8, 4), (16, 8, 4), (16, 8, 4), (16, 8, 4))"
      ]
     },
     "execution_count": 1,
     "metadata": {},
     "output_type": "execute_result"
    }
   ],
   "source": [
    "# Full code with saving to .npy files as before\n",
    "\n",
    "import numpy as np\n",
    "import pandas as pd\n",
    "import os\n",
    "\n",
    "# Load the CSV file\n",
    "csv_file_path = \"/home/rebeccaz/Programs/VAMPIRES/vampires_calibration/vampires_internal_dpp/data/20230914/20230914_processed_table.csv\"\n",
    "data = pd.read_csv(csv_file_path)\n",
    "\n",
    "# Ensure relevant columns are numeric\n",
    "data[\"diff\"] = pd.to_numeric(data[\"diff\"], errors=\"coerce\")\n",
    "data[\"sum\"] = pd.to_numeric(data[\"sum\"], errors=\"coerce\")\n",
    "data[\"diff_std\"] = pd.to_numeric(data[\"diff_std\"], errors=\"coerce\")\n",
    "data[\"sum_std\"] = pd.to_numeric(data[\"sum_std\"], errors=\"coerce\")\n",
    "\n",
    "print(data[\"diff\"])\n",
    "\n",
    "# Extract the unique values for the axes\n",
    "HWP_angs = data[\"RET-POS1\"].unique()\n",
    "IMR_angs = data[\"D_IMRANG\"].unique()\n",
    "\n",
    "# Define how many \"wavelength\" positions are implicitly in the dataset (assumed 6 here)\n",
    "wavelength_positions = 4\n",
    "\n",
    "# Initialize numpy arrays to store the median values, starting with NaNs\n",
    "double_diffs_20230914 = np.full([len(HWP_angs), len(IMR_angs), wavelength_positions], np.nan)\n",
    "double_sums_20230914 = np.full([len(HWP_angs), len(IMR_angs), wavelength_positions], np.nan)\n",
    "double_diff_stds_20230914 = np.full([len(HWP_angs), len(IMR_angs), wavelength_positions], np.nan)\n",
    "double_sum_stds_20230914 = np.full([len(HWP_angs), len(IMR_angs), wavelength_positions], np.nan)\n",
    "\n",
    "# Loop through each unique combination of HWP and IMR angles\n",
    "for i, HWP_ang in enumerate(HWP_angs):\n",
    "    for j, IMR_ang in enumerate(IMR_angs):\n",
    "\n",
    "        mask_A = (data[\"OBS-MOD\"] == \"IPOL\") & (data[\"RET-POS1\"] == HWP_ang) & (data[\"D_IMRANG\"] == IMR_ang) & (data[\"U_FLC\"] == \"A\")\n",
    "        mask_B = (data[\"OBS-MOD\"] == \"IPOL\") & (data[\"RET-POS1\"] == HWP_ang) & (data[\"D_IMRANG\"] == IMR_ang) & (data[\"U_FLC\"] == \"B\")\n",
    "    \n",
    "        # Extract the k-th elements from each filtered data set\n",
    "        diff_A_list = data[mask_A][\"diff\"].values\n",
    "        diff_B_list = data[mask_B][\"diff\"].values\n",
    "        sum_A_list = data[mask_A][\"sum\"].values\n",
    "        sum_B_list = data[mask_B][\"sum\"].values\n",
    "        diff_std_A_list = data[mask_A][\"diff_std\"].values\n",
    "        diff_std_B_list = data[mask_B][\"diff_std\"].values\n",
    "        sum_std_A_list = data[mask_A][\"sum_std\"].values\n",
    "        sum_std_B_list = data[mask_B][\"sum_std\"].values\n",
    "\n",
    "        for k in range(wavelength_positions):  # k represents the implicit wavelength position\n",
    "            # Ensure there are enough elements in the list before accessing the k-th element\n",
    "            if len(diff_A_list) > k and len(diff_B_list) > k and len(sum_A_list) > k and len(sum_B_list) > k:\n",
    "                # Calculate medians for the k-th element across all entries\n",
    "                unnormalized_double_diff = np.median([diff_A_list[k]]) - np.median([diff_B_list[k]])\n",
    "                unnormalized_double_sum = np.median([diff_A_list[k]]) + np.median([diff_B_list[k]])\n",
    "                total_sum = np.median([sum_A_list[k]]) + np.median([sum_B_list[k]])\n",
    "\n",
    "                normalized_double_diff = unnormalized_double_diff / total_sum\n",
    "                normalized_double_sum = unnormalized_double_sum / total_sum\n",
    "\n",
    "                unnormalized_double_diff_std = np.sqrt(np.median([diff_std_A_list[k]]) ** 2 + np.median([diff_std_B_list[k]]) ** 2)\n",
    "                unnormalized_double_sum_std = np.sqrt(np.median([diff_std_A_list[k]]) ** 2 + np.median([diff_std_B_list[k]]) ** 2)\n",
    "                total_sum_std = np.sqrt(np.median([sum_std_A_list[k]]) ** 2 + np.median([sum_std_B_list[k]]) ** 2)\n",
    "\n",
    "                # Store calculated values into numpy arrays\n",
    "                double_diffs_20230914[i, j, k] = normalized_double_diff\n",
    "                double_sums_20230914[i, j, k] = normalized_double_sum\n",
    "                double_diff_stds_20230914[i, j, k] = np.sqrt((unnormalized_double_diff_std / unnormalized_double_diff) ** 2  + (total_sum_std / total_sum) ** 2) * normalized_double_diff\n",
    "                double_sum_stds_20230914[i, j, k] = np.sqrt((unnormalized_double_sum_std / unnormalized_double_sum) ** 2  + (total_sum_std / total_sum) ** 2) * normalized_double_sum\n",
    "\n",
    "# Save the numpy arrays to files\n",
    "output_dir = os.path.dirname(csv_file_path)\n",
    "np.save(os.path.join(output_dir, 'double_diffs_20230914_MBI.npy'), double_diffs_20230914)\n",
    "np.save(os.path.join(output_dir, 'double_sums_20230914_MBI.npy'), double_sums_20230914)\n",
    "np.save(os.path.join(output_dir, 'double_diff_stds_20230914_MBI.npy'), double_diff_stds_20230914)\n",
    "np.save(os.path.join(output_dir, 'double_sum_stds_20230914_MBI.npy'), double_sum_stds_20230914)\n",
    "\n",
    "# Output the shapes of the resulting arrays\n",
    "(double_diffs_20230914.shape, double_sums_20230914.shape, double_diff_stds_20230914.shape, double_sum_stds_20230914.shape)\n"
   ]
  },
  {
   "cell_type": "code",
   "execution_count": null,
   "metadata": {},
   "outputs": [],
   "source": []
  }
 ],
 "metadata": {
  "kernelspec": {
   "display_name": "base",
   "language": "python",
   "name": "python3"
  },
  "language_info": {
   "codemirror_mode": {
    "name": "ipython",
    "version": 3
   },
   "file_extension": ".py",
   "mimetype": "text/x-python",
   "name": "python",
   "nbconvert_exporter": "python",
   "pygments_lexer": "ipython3",
   "version": "3.9.7"
  }
 },
 "nbformat": 4,
 "nbformat_minor": 2
}
