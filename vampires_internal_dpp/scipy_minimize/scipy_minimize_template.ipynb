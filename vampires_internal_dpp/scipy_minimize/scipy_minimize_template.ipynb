{
 "cells": [
  {
   "cell_type": "code",
   "execution_count": null,
   "metadata": {},
   "outputs": [],
   "source": [
    "import matplotlib.pyplot as plt\n",
    "import numpy as np\n",
    "from scipy.optimize import minimize"
   ]
  },
  {
   "cell_type": "markdown",
   "metadata": {},
   "source": [
    "# Start-Up Information"
   ]
  },
  {
   "cell_type": "code",
   "execution_count": null,
   "metadata": {},
   "outputs": [],
   "source": [
    "HWP_angs = np.array([0., 11.25, 22.5, 33.75, 45., 56.25, 67.5, 78.75, 90, \n",
    "                     101.25, 112.5, 123.75, 135., 146.25, 157.5, 168.75])\n",
    "IMR_angs = np.array([45., 57.5, 70., 82.5, 95., 107.5, 120., 132.5])\n",
    "wavelengths = np.array([625, 675, 725, 750, 775])\n",
    "angles = [HWP_angs, IMR_angs]"
   ]
  },
  {
   "cell_type": "markdown",
   "metadata": {},
   "source": []
  }
 ],
 "metadata": {
  "language_info": {
   "name": "python"
  }
 },
 "nbformat": 4,
 "nbformat_minor": 2
}
