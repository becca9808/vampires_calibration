{
 "cells": [
  {
   "cell_type": "code",
   "execution_count": 2,
   "metadata": {},
   "outputs": [],
   "source": [
    "import os\n",
    "import sys\n",
    "py_files_dir = os.path.abspath(\"../../py_files/\")\n",
    "sys.path.insert(0, py_files_dir)\n",
    "\n",
    "import matplotlib.pyplot as plt\n",
    "import instrument_matrices as matrices\n",
    "import pandas as pd\n",
    "import numpy as np\n",
    "import helper_functions as funcions"
   ]
  },
  {
   "cell_type": "markdown",
   "metadata": {},
   "source": [
    "# Setting Up Initial Instrument Parameters"
   ]
  },
  {
   "cell_type": "code",
   "execution_count": 3,
   "metadata": {},
   "outputs": [],
   "source": [
    "# Internal Calibration Model Parameters from MCMC best fit value - \n",
    "# https://docs.google.com/spreadsheets/d/1i8TjHzQFMmxaUWrrqm1eYziyUanC6pweGGFzJPdfbiE/edit#gid=0\n",
    "\n",
    "delta_m3 = 0 # (waves) - assumed to be zero for now\n",
    "epsilon_m3 = 0  # Rough value from unpolarized standards fit\n",
    "offset_m3 = 0  # NOTE: Made this zero too for testing purposes\n",
    "em_gain = 0.423  # Add your actual em_gain value\n",
    "delta_HWP = 0.451  # Add your actual delta_HWP value\n",
    "offset_HWP = -2.642  # Add your actual offset_HWP value\n",
    "delta_derot = 0.32  # Add your actual delta_derot value\n",
    "offset_derot = -0.011  # Add your actual offset_derot value\n",
    "delta_opts = -0.163  # Add your actual delta_opts value\n",
    "epsilon_opts = 0.036  # Add your actual epsilon_opts value\n",
    "rot_opts = -7.151  # Add your actual rot_opts value\n",
    "delta_FLC = 0.302  # Add your actual delta_FLC value\n",
    "rot_FLC = 0.256  # Add your actual rot_FLC value\n",
    "\n",
    "model = matrices.full_system_mueller_matrix\n",
    "\n",
    "# For testing ideal parameters\n",
    "# delta_FLC = 0.5\n",
    "# em_gain = 1\n",
    "# epsilon_opts = 0 # Made this zero for testing purposes\n",
    "\n",
    "fixed_params = [delta_m3, epsilon_m3, offset_m3, delta_HWP, offset_HWP, \n",
    "    delta_derot, offset_derot, delta_opts, epsilon_opts, rot_opts, delta_FLC, \n",
    "    rot_FLC, em_gain]"
   ]
  },
  {
   "cell_type": "markdown",
   "metadata": {},
   "source": [
    "# Using Normalized Double Differences as the Observable"
   ]
  },
  {
   "cell_type": "code",
   "execution_count": 4,
   "metadata": {},
   "outputs": [
    {
     "data": {
      "image/png": "[encoded data removed]",
      "text/plain": [
       "<Figure size 432x288 with 1 Axes>"
      ]
     },
     "metadata": {
      "needs_background": "light"
     },
     "output_type": "display_data"
    }
   ],
   "source": [
    "import numpy as np\n",
    "import matplotlib.pyplot as plt\n",
    "\n",
    "# Setting initial altitudes\n",
    "wavelength = 675\n",
    "first_rows = []\n",
    "diffs_and_sums = []\n",
    "Q_list = []\n",
    "U_list = []\n",
    "final_altitudes = []\n",
    "full_inst_matrices_list = []\n",
    "inst_matrices_at_HWP = []\n",
    "diffs = []\n",
    "this_cycle_altitudes = []\n",
    "\n",
    "# Load altitudes and IMR_angs from files\n",
    "altitudes = np.load(\"../../../data/unpolarized/numpy/Eta_Crv_double_diff_and_sum_altitudes.npy\")\n",
    "IMR_angs = np.load(\"../../../data/unpolarized/numpy/Eta_Crv_double_diff_and_sum_IMR_angs.npy\")\n",
    "altitudes = np.linspace(35, 55, 20)\n",
    "HWP_angs = np.array([0, 45, 22.5, 67.5])\n",
    "\n",
    "# Loop through each target and calculate s_sky individually\n",
    "for i, altitude in enumerate(altitudes):\n",
    "    for j, HWP_ang in enumerate(HWP_angs):\n",
    "        epsilon_m3 = 0.0176  # Re-instating epsilon_m3 value after reconstruction at HWP\n",
    "        offset_m3 = -2.55\n",
    "        fixed_params = [delta_m3, epsilon_m3, offset_m3, delta_HWP, offset_HWP, \n",
    "                        delta_derot, offset_derot, delta_opts, epsilon_opts, rot_opts, delta_FLC, \n",
    "                        rot_FLC, em_gain]\n",
    "        # 0 parallactic angle\n",
    "        full_inst_matrices = matrices.full_system_mueller_matrix_normalized_double_diff_and_sum(\n",
    "            model, fixed_params, 0, altitude, HWP_angs[j], IMR_angs[i])\n",
    "        full_double_diff_matrix = full_inst_matrices[0]\n",
    "        full_double_sum_matrix = full_inst_matrices[1]\n",
    "        full_inst_matrices_list.append(full_double_diff_matrix)\n",
    "        full_inst_matrices_list.append(full_double_sum_matrix)\n",
    "\n",
    "        # Make a fake \"measurement\" with s_out = output Stokes\n",
    "        s_in = np.array([[1], [0], [0], [0]])\n",
    "        s_out_diff = full_double_diff_matrix @ s_in\n",
    "        s_out_sum = full_double_sum_matrix @ s_in\n",
    "\n",
    "        # Saving the propagated double diffs and sums\n",
    "        this_double_diff = s_out_diff[0][0]\n",
    "        this_double_sum = s_out_sum[0][0]\n",
    "        diffs.append(this_double_diff)\n",
    "        diffs_and_sums.append(this_double_diff)\n",
    "        diffs_and_sums.append(this_double_sum)\n",
    "\n",
    "        # Calculate instrument matrix at HWP\n",
    "        # NOTE: Altitude and parallactic angle are 0\n",
    "        epsilon_m3 = 0  # Re-instating epsilon_m3 value after reconstruction at HWP\n",
    "        offset_m3 = 0\n",
    "        fixed_params = [delta_m3, epsilon_m3, offset_m3, delta_HWP, offset_HWP, \n",
    "                        delta_derot, offset_derot, delta_opts, epsilon_opts, rot_opts, delta_FLC, \n",
    "                        rot_FLC, em_gain]\n",
    "        these_inst_matrices_at_HWP = matrices.full_system_mueller_matrix_normalized_double_diff_and_sum( \n",
    "            model, fixed_params, 0, 0, HWP_ang, IMR_angs[i])\n",
    "        double_diff_matrix_at_HWP = these_inst_matrices_at_HWP[0]\n",
    "        double_sum_matrix_at_HWP = these_inst_matrices_at_HWP[1]\n",
    "\n",
    "        # Setting the I component to be 1\n",
    "        double_diff_matrix_at_HWP[0, 0] = 1\n",
    "\n",
    "        # Saving instrument matrices\n",
    "        inst_matrices_at_HWP.append(double_diff_matrix_at_HWP)\n",
    "        inst_matrices_at_HWP.append(double_sum_matrix_at_HWP)\n",
    "\n",
    "        # Take only the first row and I, Q, U, components (no V)\n",
    "        first_rows.append(double_diff_matrix_at_HWP[0, : 3])  \n",
    "        # first_rows.append(double_sum_matrix_at_HWP[0, : ])  \n",
    "\n",
    "        # Track altitudes for mean calculation\n",
    "        this_cycle_altitudes.append(altitude)\n",
    "\n",
    "    # Constructing measurement matrix to reconstruct Stokes vector at HWP\n",
    "    measurement_matrix = np.vstack(first_rows)\n",
    "    measurements = np.array(diffs).reshape(-1, 1)  # Reshape total counts to a column vector\n",
    "\n",
    "    # Compute the pseudo-inverse of the measurement matrix and multiply it by the measurements vector\n",
    "    s_HWP = np.linalg.pinv(measurement_matrix) @ measurements\n",
    "\n",
    "    # Extract Q and U from s_HWP_normalized\n",
    "    Q = s_HWP[1]\n",
    "    U = s_HWP[2]\n",
    "\n",
    "    # Append Q, U, altitude to the lists\n",
    "    Q_list.append(Q)\n",
    "    U_list.append(U)\n",
    "\n",
    "    # Saving the mean of the altitudes\n",
    "    mean_altitude = np.mean(this_cycle_altitudes)\n",
    "    final_altitudes.append(mean_altitude)\n",
    "\n",
    "    # Reset measurement matrix rows and double diff and sum measurements\n",
    "    first_rows = []  \n",
    "    diffs = []\n",
    "    this_cycle_altitudes = []\n",
    "\n",
    "# Convert lists to numpy arrays for plotting\n",
    "Q_list = np.array(Q_list).flatten()\n",
    "U_list = np.array(U_list).flatten()\n",
    "final_altitudes = np.array(final_altitudes)\n",
    "\n",
    "# Plotting the data\n",
    "plt.plot(final_altitudes, Q_list, label='Q', linestyle='None', marker='o', color='blue')\n",
    "plt.plot(final_altitudes, U_list, label='U', linestyle='None', marker='o', color='red')\n",
    "\n",
    "plt.title(f\"Stokes Q and U of {wavelength}nm Eta Crv Data @ HWP - 1.7% Diattenuation\")\n",
    "plt.xlabel(\"Altitude (Degrees)\")\n",
    "plt.ylabel(\"Stokes Parameter\")\n",
    "plt.legend() \n",
    "plt.show()\n"
   ]
  },
  {
   "cell_type": "markdown",
   "metadata": {},
   "source": [
    "# Printing Instrumental Matrices"
   ]
  },
  {
   "cell_type": "code",
   "execution_count": 5,
   "metadata": {},
   "outputs": [
    {
     "name": "stdout",
     "output_type": "stream",
     "text": [
      "Example Double Difference Matrices\n",
      "[[ 1.          0.29324061 -1.04883429  0.3776136 ]\n",
      " [-0.01323143 -0.11890361  0.42528277 -0.15311528]\n",
      " [ 0.          0.          0.          0.        ]\n",
      " [ 0.          0.          0.          0.        ]]\n",
      "[[ 1.         -0.05222458  1.03951149  0.49530183]\n",
      " [-0.01323143  0.02117609 -0.42150255 -0.20083567]\n",
      " [ 0.          0.          0.          0.        ]\n",
      " [ 0.          0.          0.          0.        ]]\n",
      "Example Double Sum Matrices\n",
      "[[ 1.4161659  -0.02204233  0.05979887  0.30558829]\n",
      " [-0.56014572  0.05288826 -0.24923001 -0.78172053]\n",
      " [ 0.          0.          0.          0.        ]\n",
      " [ 0.          0.          0.          0.        ]]\n",
      "[[ 1.4161659   0.14381766 -0.07535558  0.26661581]\n",
      " [-0.56014572 -0.35949177  0.28871286 -0.68074246]\n",
      " [ 0.          0.          0.          0.        ]\n",
      " [ 0.          0.          0.          0.        ]]\n"
     ]
    }
   ],
   "source": [
    "print(\"Example Double Difference Matrices\")\n",
    "print(inst_matrices_at_HWP[-4])\n",
    "print(inst_matrices_at_HWP[-2])\n",
    "print(\"Example Double Sum Matrices\")\n",
    "print(inst_matrices_at_HWP[-3])\n",
    "print(inst_matrices_at_HWP[-1])\n"
   ]
  },
  {
   "cell_type": "markdown",
   "metadata": {},
   "source": [
    "# Testing Mueller Matrices"
   ]
  },
  {
   "cell_type": "code",
   "execution_count": 7,
   "metadata": {},
   "outputs": [
    {
     "name": "stdout",
     "output_type": "stream",
     "text": [
      "HWP Angle: 0\n",
      "IMR Angle: 0\n",
      "FLC State: 1\n",
      "Altitude: 0\n",
      "Test Matrix (Cam 1): [[ 0.21885504 -0.19890723  0.08763397  0.02556812]\n",
      " [ 0.21885504 -0.19890723  0.08763397  0.02556812]\n",
      " [ 0.          0.          0.          0.        ]\n",
      " [ 0.          0.          0.          0.        ]]\n",
      "Test Matrix (Cam 2): [[ 0.4826122   0.43636911 -0.19982076 -0.05067737]\n",
      " [-0.4826122  -0.43636911  0.19982076  0.05067737]\n",
      " [ 0.          0.          0.          0.        ]\n",
      " [ 0.          0.          0.          0.        ]]\n",
      "Test Matrix (DD): [[ 3.26314075e-02 -1.08003320e+00 -8.25599710e-04 -4.02694751e-01]\n",
      " [-1.32314281e-02  4.37933348e-01  3.34765308e-04  1.63285222e-01]\n",
      " [ 0.00000000e+00  0.00000000e+00  0.00000000e+00  0.00000000e+00]\n",
      " [ 0.00000000e+00  0.00000000e+00  0.00000000e+00  0.00000000e+00]]\n",
      "Test Matrix (DS): [[ 1.4161659   0.0369904  -0.22470834 -0.21350373]\n",
      " [-0.56014572 -0.19051948  0.57573508  0.55518574]\n",
      " [ 0.          0.          0.          0.        ]\n",
      " [ 0.          0.          0.          0.        ]]\n"
     ]
    }
   ],
   "source": [
    "delta_m3 = 0 # (waves) - assumed to be zero for now\n",
    "epsilon_m3 = 0  # Rough value from unpolarized standards fit\n",
    "offset_m3 = 0  # NOTE: Made this zero too for testing purposes\n",
    "em_gain = 0.423  # Add your actual em_gain value\n",
    "delta_HWP = 0.451  # Add your actual delta_HWP value\n",
    "offset_HWP = -2.642  # Add your actual offset_HWP value\n",
    "delta_derot = 0.32  # Add your actual delta_derot value\n",
    "offset_derot = -0.011  # Add your actual offset_derot value\n",
    "delta_opts = -0.163  # Add your actual delta_opts value\n",
    "epsilon_opts = 0.036  # Add your actual epsilon_opts value\n",
    "rot_opts = -7.151  # Add your actual rot_opts value\n",
    "delta_FLC = 0.302  # Add your actual delta_FLC value\n",
    "rot_FLC = 0.256  # Add your actual rot_FLC value\n",
    "\n",
    "fixed_params = [delta_m3, epsilon_m3, offset_m3, delta_HWP, offset_HWP, \n",
    "    delta_derot, offset_derot, delta_opts, epsilon_opts, rot_opts, delta_FLC, \n",
    "    rot_FLC, em_gain]\n",
    "\n",
    "HWP_ang = 0\n",
    "IMR_ang = 0\n",
    "FLC_state = 1\n",
    "\n",
    "print(\"HWP Angle: \" + str(HWP_ang))\n",
    "print(\"IMR Angle: \" + str(IMR_ang))\n",
    "print(\"FLC State: \" + str(FLC_state))\n",
    "print(\"Altitude: 0\")\n",
    "\n",
    "test_matrix_1 = model( \n",
    "    *fixed_params, 0, 0, HWP_ang, IMR_ang, 1, FLC_state)\n",
    "\n",
    "print(\"Test Matrix (Cam 1): \" + str(test_matrix_1))\n",
    "\n",
    "test_matrix_2 = model( \n",
    "    *fixed_params, 0, 0, HWP_ang, IMR_ang, 2, FLC_state)\n",
    "\n",
    "print(\"Test Matrix (Cam 2): \" + str(test_matrix_2))\n",
    "\n",
    "test_double_diff_and_sum_matrices = matrices.full_system_mueller_matrix_normalized_double_diff_and_sum( \n",
    "    model, fixed_params, 0, 0, HWP_ang, IMR_ang)\n",
    "test_double_diff_matrix = test_double_diff_and_sum_matrices[0]\n",
    "test_double_sum_matrix = test_double_diff_and_sum_matrices[1]\n",
    "\n",
    "print(\"Test Matrix (DD): \" + str(test_double_diff_matrix))\n",
    "print(\"Test Matrix (DS): \" + str(test_double_sum_matrix))"
   ]
  },
  {
   "cell_type": "code",
   "execution_count": null,
   "metadata": {},
   "outputs": [],
   "source": []
  }
 ],
 "metadata": {
  "kernelspec": {
   "display_name": "base",
   "language": "python",
   "name": "python3"
  },
  "language_info": {
   "codemirror_mode": {
    "name": "ipython",
    "version": 3
   },
   "file_extension": ".py",
   "mimetype": "text/x-python",
   "name": "python",
   "nbconvert_exporter": "python",
   "pygments_lexer": "ipython3",
   "version": "3.9.7"
  }
 },
 "nbformat": 4,
 "nbformat_minor": 2
}
